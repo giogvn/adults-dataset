{
 "cells": [
  {
   "cell_type": "code",
   "execution_count": 1,
   "id": "eb749150",
   "metadata": {
    "execution": {
     "iopub.execute_input": "2022-10-31T03:30:29.293719Z",
     "iopub.status.busy": "2022-10-31T03:30:29.293265Z",
     "iopub.status.idle": "2022-10-31T03:30:30.878457Z",
     "shell.execute_reply": "2022-10-31T03:30:30.877374Z"
    },
    "papermill": {
     "duration": 1.609313,
     "end_time": "2022-10-31T03:30:30.881518",
     "exception": false,
     "start_time": "2022-10-31T03:30:29.272205",
     "status": "completed"
    },
    "tags": []
   },
   "outputs": [],
   "source": [
    "import pandas as pd\n",
    "import matplotlib.pyplot as plt\n",
    "import numpy as np\n",
    "import sklearn as sk\n",
    "import seaborn as sns\n",
    "from sklearn.preprocessing import RobustScaler, OneHotEncoder, OrdinalEncoder\n",
    "from sklearn.compose import ColumnTransformer\n",
    "from sklearn.compose import make_column_selector as selector\n",
    "from sklearn.feature_selection import chi2\n",
    "from scipy import stats\n",
    "from copy import copy"
   ]
  },
  {
   "cell_type": "code",
   "execution_count": 2,
   "id": "ed7f4f2f",
   "metadata": {
    "execution": {
     "iopub.execute_input": "2022-10-31T03:30:30.907173Z",
     "iopub.status.busy": "2022-10-31T03:30:30.906438Z",
     "iopub.status.idle": "2022-10-31T03:30:31.545280Z",
     "shell.execute_reply": "2022-10-31T03:30:31.543858Z"
    },
    "papermill": {
     "duration": 0.655699,
     "end_time": "2022-10-31T03:30:31.548184",
     "exception": false,
     "start_time": "2022-10-31T03:30:30.892485",
     "status": "completed"
    },
    "tags": []
   },
   "outputs": [],
   "source": [
    "df = pd.read_csv(\"../input/adult-pmr3508/train_data.csv\", sep=r'\\s*,\\s*', engine='python', na_values=\"?\")\n",
    "df['income'] = df['income'].map({\"<=50K\": 0, \">50K\": 1})"
   ]
  },
  {
   "cell_type": "markdown",
   "id": "4e18362f",
   "metadata": {
    "papermill": {
     "duration": 0.010618,
     "end_time": "2022-10-31T03:30:31.569742",
     "exception": false,
     "start_time": "2022-10-31T03:30:31.559124",
     "status": "completed"
    },
    "tags": []
   },
   "source": [
    "# Data Pre-processing"
   ]
  },
  {
   "cell_type": "markdown",
   "id": "56935afc",
   "metadata": {
    "papermill": {
     "duration": 0.010345,
     "end_time": "2022-10-31T03:30:31.590802",
     "exception": false,
     "start_time": "2022-10-31T03:30:31.580457",
     "status": "completed"
    },
    "tags": []
   },
   "source": [
    "#### 1. Data Normalization\n",
    "    Checking if the numerical features of the dataset have similar scales"
   ]
  },
  {
   "cell_type": "code",
   "execution_count": 3,
   "id": "c2459658",
   "metadata": {
    "execution": {
     "iopub.execute_input": "2022-10-31T03:30:31.614361Z",
     "iopub.status.busy": "2022-10-31T03:30:31.613817Z",
     "iopub.status.idle": "2022-10-31T03:30:31.672618Z",
     "shell.execute_reply": "2022-10-31T03:30:31.671315Z"
    },
    "papermill": {
     "duration": 0.073803,
     "end_time": "2022-10-31T03:30:31.675304",
     "exception": false,
     "start_time": "2022-10-31T03:30:31.601501",
     "status": "completed"
    },
    "tags": []
   },
   "outputs": [
    {
     "data": {
      "text/html": [
       "<div>\n",
       "<style scoped>\n",
       "    .dataframe tbody tr th:only-of-type {\n",
       "        vertical-align: middle;\n",
       "    }\n",
       "\n",
       "    .dataframe tbody tr th {\n",
       "        vertical-align: top;\n",
       "    }\n",
       "\n",
       "    .dataframe thead th {\n",
       "        text-align: right;\n",
       "    }\n",
       "</style>\n",
       "<table border=\"1\" class=\"dataframe\">\n",
       "  <thead>\n",
       "    <tr style=\"text-align: right;\">\n",
       "      <th></th>\n",
       "      <th>Id</th>\n",
       "      <th>age</th>\n",
       "      <th>fnlwgt</th>\n",
       "      <th>education.num</th>\n",
       "      <th>capital.gain</th>\n",
       "      <th>capital.loss</th>\n",
       "      <th>hours.per.week</th>\n",
       "      <th>income</th>\n",
       "    </tr>\n",
       "  </thead>\n",
       "  <tbody>\n",
       "    <tr>\n",
       "      <th>mean</th>\n",
       "      <td>32559.5</td>\n",
       "      <td>38.581634</td>\n",
       "      <td>1.897818e+05</td>\n",
       "      <td>10.08059</td>\n",
       "      <td>1077.615172</td>\n",
       "      <td>87.306511</td>\n",
       "      <td>40.437469</td>\n",
       "      <td>0.240817</td>\n",
       "    </tr>\n",
       "    <tr>\n",
       "      <th>min</th>\n",
       "      <td>16280.0</td>\n",
       "      <td>17.000000</td>\n",
       "      <td>1.228500e+04</td>\n",
       "      <td>1.00000</td>\n",
       "      <td>0.000000</td>\n",
       "      <td>0.000000</td>\n",
       "      <td>1.000000</td>\n",
       "      <td>0.000000</td>\n",
       "    </tr>\n",
       "    <tr>\n",
       "      <th>max</th>\n",
       "      <td>48839.0</td>\n",
       "      <td>90.000000</td>\n",
       "      <td>1.484705e+06</td>\n",
       "      <td>16.00000</td>\n",
       "      <td>99999.000000</td>\n",
       "      <td>4356.000000</td>\n",
       "      <td>99.000000</td>\n",
       "      <td>1.000000</td>\n",
       "    </tr>\n",
       "  </tbody>\n",
       "</table>\n",
       "</div>"
      ],
      "text/plain": [
       "           Id        age        fnlwgt  education.num  capital.gain  \\\n",
       "mean  32559.5  38.581634  1.897818e+05       10.08059   1077.615172   \n",
       "min   16280.0  17.000000  1.228500e+04        1.00000      0.000000   \n",
       "max   48839.0  90.000000  1.484705e+06       16.00000  99999.000000   \n",
       "\n",
       "      capital.loss  hours.per.week    income  \n",
       "mean     87.306511       40.437469  0.240817  \n",
       "min       0.000000        1.000000  0.000000  \n",
       "max    4356.000000       99.000000  1.000000  "
      ]
     },
     "metadata": {},
     "output_type": "display_data"
    }
   ],
   "source": [
    "display(df.describe().loc[['mean', 'min', 'max']])"
   ]
  },
  {
   "cell_type": "markdown",
   "id": "3763fa18",
   "metadata": {
    "papermill": {
     "duration": 0.010746,
     "end_time": "2022-10-31T03:30:31.697138",
     "exception": false,
     "start_time": "2022-10-31T03:30:31.686392",
     "status": "completed"
    },
    "tags": []
   },
   "source": [
    "#### Average Scale of the Numerical Features:\n",
    "* **Age, Education-Num, Capital Loss** and **Hours per Week** : $10^{0}$\n",
    "* **fnlwgt**: $10^{5}$\n",
    "* **Capital Gain**: $10^{3}$\n",
    "\n",
    "        As the numerical features have different scales, they will be normalized. This is done because the *K-nearest-neighbors algorithms is very sensitive to features with high scales,as these will have a higher impact in the distance calculus. Normalizing the data is import to garantee that all numerical features have a similar impact in the distances calculated in the KNN algorithm."
   ]
  },
  {
   "cell_type": "markdown",
   "id": "8edf6b60",
   "metadata": {
    "papermill": {
     "duration": 0.010618,
     "end_time": "2022-10-31T03:30:31.718733",
     "exception": false,
     "start_time": "2022-10-31T03:30:31.708115",
     "status": "completed"
    },
    "tags": []
   },
   "source": [
    "#### 1.1 Choosing the normalization method\n",
    "##### 1.1.1 Detecting outliers\n",
    "    Detecting outliers in the dataset is an important step before deciding which normalization method will be used because some of them are very sensitive to this type of data observation."
   ]
  },
  {
   "cell_type": "code",
   "execution_count": 4,
   "id": "5aa35aae",
   "metadata": {
    "execution": {
     "iopub.execute_input": "2022-10-31T03:30:31.742565Z",
     "iopub.status.busy": "2022-10-31T03:30:31.742148Z",
     "iopub.status.idle": "2022-10-31T03:30:32.889666Z",
     "shell.execute_reply": "2022-10-31T03:30:32.888330Z"
    },
    "papermill": {
     "duration": 1.162994,
     "end_time": "2022-10-31T03:30:32.892693",
     "exception": false,
     "start_time": "2022-10-31T03:30:31.729699",
     "status": "completed"
    },
    "tags": []
   },
   "outputs": [
    {
     "data": {
      "image/png": "[encoded data removed]",
      "text/plain": [
       "<Figure size 1080x504 with 6 Axes>"
      ]
     },
     "metadata": {
      "needs_background": "light"
     },
     "output_type": "display_data"
    }
   ],
   "source": [
    "fig, axes = plt.subplots(nrows = 1, ncols = 6, figsize=(15, 7))\n",
    "fig.tight_layout(pad=7.0)\n",
    "num_ftrs_slc = selector(dtype_exclude = object)\n",
    "num_ftrs = num_ftrs_slc(df)\n",
    "for i, bp in enumerate(axes.flat):\n",
    "    df.boxplot(column = num_ftrs[i], ax = bp, fontsize=15)"
   ]
  },
  {
   "cell_type": "markdown",
   "id": "ed8fca28",
   "metadata": {
    "papermill": {
     "duration": 0.011621,
     "end_time": "2022-10-31T03:30:32.916474",
     "exception": false,
     "start_time": "2022-10-31T03:30:32.904853",
     "status": "completed"
    },
    "tags": []
   },
   "source": [
    "##### Calculating the number of Outliers using the  Interquartile Range (IQR) \n",
    "<br>\n",
    "  As noticed above, using the Boxplot Method to detect outliers with respect to all the numerical features  leads to the conclusion that all of them have outliers - the black points outside the blue boxes.\n",
    "The BoxPlot uses the Interquartile Range (IQR) criteria to define which data points should be represented as outliers (black points)\n",
    "  \n",
    "***\n",
    "$\\mathbf{\\text{Interquartile Range Criteria}}$<br>\n",
    "***\n",
    "1.*&emsp;For each **data_point** verify for each of its **features** if* $$Q1(feature) - 1.5 IQR \\leq data\\_point[feature] \\leq Q3(feature) + 1.5IQR$$\n",
    "$$Q1\\textrm{: first quartile}$$\n",
    "$$Q3\\textrm{: third quartile}$$\n",
    "$$IRQ = Q3(feature) - Q1(feature)$$\n",
    "2. *If not for some feature, the **data_point** is classified as an **outlier** with respect to that **feature**.*"
   ]
  },
  {
   "cell_type": "code",
   "execution_count": 5,
   "id": "2a6160a5",
   "metadata": {
    "execution": {
     "iopub.execute_input": "2022-10-31T03:30:32.941954Z",
     "iopub.status.busy": "2022-10-31T03:30:32.941494Z",
     "iopub.status.idle": "2022-10-31T03:30:32.968753Z",
     "shell.execute_reply": "2022-10-31T03:30:32.967754Z"
    },
    "papermill": {
     "duration": 0.043021,
     "end_time": "2022-10-31T03:30:32.971294",
     "exception": false,
     "start_time": "2022-10-31T03:30:32.928273",
     "status": "completed"
    },
    "scrolled": true,
    "tags": []
   },
   "outputs": [
    {
     "name": "stdout",
     "output_type": "stream",
     "text": [
      "Percentage of Outliers \n",
      " Id                 0.000000\n",
      "age                0.439189\n",
      "fnlwgt             3.046683\n",
      "education.num      3.679361\n",
      "capital.gain       8.326167\n",
      "capital.loss       4.665233\n",
      "hours.per.week    27.665848\n",
      "income            24.081695\n",
      "dtype: float64\n"
     ]
    }
   ],
   "source": [
    "Q1 = df.quantile(0.25)\n",
    "Q3 = df.quantile(0.75)\n",
    "IQR = Q3 - Q1\n",
    "print(\"Percentage of Outliers \\n\",((df[num_ftrs] < (Q1 - 1.5 * IQR)) | \n",
    "                                     (df[num_ftrs] > (Q3 + 1.5 * IQR))).sum()*100/df.shape[0])"
   ]
  },
  {
   "cell_type": "markdown",
   "id": "ced551e2",
   "metadata": {
    "papermill": {
     "duration": 0.011566,
     "end_time": "2022-10-31T03:30:32.994807",
     "exception": false,
     "start_time": "2022-10-31T03:30:32.983241",
     "status": "completed"
    },
    "tags": []
   },
   "source": [
    "As seen above, only the 'Age' feature has a negligible number of outliers. This way, a normalization method that is not outlier-sensible will be chosen to all numerical features.\n",
    "***\n",
    "Chosen Normalization Method: **Robust Scaling**\n",
    "1.*&emsp;For each data_point $i$ having feature $x$ the  new normalized value $norm(x_i)$ is such that:\n",
    "$$norm(x_i) = \\frac{x_i - Q_2(x)}{Q_3(x) - Q_1(x)}$$\n",
    "***"
   ]
  },
  {
   "cell_type": "markdown",
   "id": "c917460c",
   "metadata": {
    "papermill": {
     "duration": 0.011506,
     "end_time": "2022-10-31T03:30:33.018200",
     "exception": false,
     "start_time": "2022-10-31T03:30:33.006694",
     "status": "completed"
    },
    "tags": []
   },
   "source": [
    "#### 2. Data Transformation"
   ]
  },
  {
   "cell_type": "markdown",
   "id": "3568ab9c",
   "metadata": {
    "papermill": {
     "duration": 0.011737,
     "end_time": "2022-10-31T03:30:33.041777",
     "exception": false,
     "start_time": "2022-10-31T03:30:33.030040",
     "status": "completed"
    },
    "tags": []
   },
   "source": [
    "##### 2.1 Choosing the Appropriate Transformations"
   ]
  },
  {
   "cell_type": "markdown",
   "id": "3c57862c",
   "metadata": {
    "papermill": {
     "duration": 0.011714,
     "end_time": "2022-10-31T03:30:33.065442",
     "exception": false,
     "start_time": "2022-10-31T03:30:33.053728",
     "status": "completed"
    },
    "tags": []
   },
   "source": [
    "To choose the appropriate method to turn the categorical features into numbers we first need to understand which features have values with a natural order and which do not. Features without natural order will be transformed using **One Hot Encoding** and the others will be transformed with **Ordinal Encoding**"
   ]
  },
  {
   "cell_type": "markdown",
   "id": "1b9aba81",
   "metadata": {
    "papermill": {
     "duration": 0.011557,
     "end_time": "2022-10-31T03:30:33.088956",
     "exception": false,
     "start_time": "2022-10-31T03:30:33.077399",
     "status": "completed"
    },
    "tags": []
   },
   "source": [
    "##### 2.1.1 Features Transformed with Ordinal Encoding\n",
    "The categorical feature that seem to have a natural order is **Education**, and it is probably highly correlated to the numerical feature **Education-Num**.This correlation will be checked and treate later. Below the values this feature assume are shown."
   ]
  },
  {
   "cell_type": "code",
   "execution_count": 6,
   "id": "ed9fc152",
   "metadata": {
    "execution": {
     "iopub.execute_input": "2022-10-31T03:30:33.116002Z",
     "iopub.status.busy": "2022-10-31T03:30:33.115523Z",
     "iopub.status.idle": "2022-10-31T03:30:33.124992Z",
     "shell.execute_reply": "2022-10-31T03:30:33.123422Z"
    },
    "papermill": {
     "duration": 0.026315,
     "end_time": "2022-10-31T03:30:33.128044",
     "exception": false,
     "start_time": "2022-10-31T03:30:33.101729",
     "status": "completed"
    },
    "scrolled": true,
    "tags": []
   },
   "outputs": [
    {
     "name": "stdout",
     "output_type": "stream",
     "text": [
      "Education feature assume the values ['Some-college' '10th' 'HS-grad' 'Bachelors' 'Assoc-acdm' '5th-6th'\n",
      " 'Masters' '12th' 'Prof-school' 'Doctorate' '9th' '1st-4th' '7th-8th'\n",
      " 'Assoc-voc' '11th' 'Preschool']\n"
     ]
    }
   ],
   "source": [
    "print(\"Education feature assume the values\",df['education'].unique())"
   ]
  },
  {
   "cell_type": "markdown",
   "id": "0de8da81",
   "metadata": {
    "papermill": {
     "duration": 0.01254,
     "end_time": "2022-10-31T03:30:33.153577",
     "exception": false,
     "start_time": "2022-10-31T03:30:33.141037",
     "status": "completed"
    },
    "tags": []
   },
   "source": [
    "Only **Education** seems to have an ordering, which is defined below."
   ]
  },
  {
   "cell_type": "code",
   "execution_count": 7,
   "id": "79d931fe",
   "metadata": {
    "execution": {
     "iopub.execute_input": "2022-10-31T03:30:33.181220Z",
     "iopub.status.busy": "2022-10-31T03:30:33.180818Z",
     "iopub.status.idle": "2022-10-31T03:30:33.186345Z",
     "shell.execute_reply": "2022-10-31T03:30:33.185135Z"
    },
    "papermill": {
     "duration": 0.02253,
     "end_time": "2022-10-31T03:30:33.188971",
     "exception": false,
     "start_time": "2022-10-31T03:30:33.166441",
     "status": "completed"
    },
    "tags": []
   },
   "outputs": [],
   "source": [
    "edc_order = ['Preschool', '1st-4th','5th-6th','7th-8th',\n",
    "            '9th', '10th', '11th', '12th', 'HS-grad',\n",
    "            'Some-college','Assoc-voc', 'Assoc-acdm',\n",
    "            'Bachelors', 'Masters','Prof-school', 'Doctorate']"
   ]
  },
  {
   "cell_type": "markdown",
   "id": "b8be78d2",
   "metadata": {
    "papermill": {
     "duration": 0.011974,
     "end_time": "2022-10-31T03:30:33.213143",
     "exception": false,
     "start_time": "2022-10-31T03:30:33.201169",
     "status": "completed"
    },
    "tags": []
   },
   "source": [
    "##### 2.1.2 Features Transformed with One Hot Encoding\n",
    "* Martial Status\n",
    "* Occupation\n",
    "* Relationship\n",
    "* Race\n",
    "* Sex\n",
    "* Country\n",
    "* Workclass"
   ]
  },
  {
   "cell_type": "markdown",
   "id": "474c4bb6",
   "metadata": {
    "papermill": {
     "duration": 0.011686,
     "end_time": "2022-10-31T03:30:33.236981",
     "exception": false,
     "start_time": "2022-10-31T03:30:33.225295",
     "status": "completed"
    },
    "tags": []
   },
   "source": [
    "##### 2.1.3 Features Transformed with Ordinal Encoding\n",
    "* Education"
   ]
  },
  {
   "cell_type": "code",
   "execution_count": 8,
   "id": "bd302224",
   "metadata": {
    "execution": {
     "iopub.execute_input": "2022-10-31T03:30:33.262432Z",
     "iopub.status.busy": "2022-10-31T03:30:33.262051Z",
     "iopub.status.idle": "2022-10-31T03:30:33.286816Z",
     "shell.execute_reply": "2022-10-31T03:30:33.285382Z"
    },
    "papermill": {
     "duration": 0.04042,
     "end_time": "2022-10-31T03:30:33.289248",
     "exception": false,
     "start_time": "2022-10-31T03:30:33.248828",
     "status": "completed"
    },
    "tags": []
   },
   "outputs": [
    {
     "name": "stdout",
     "output_type": "stream",
     "text": [
      "One Hot Encoding will add 78 new columns to the dataframe\n"
     ]
    }
   ],
   "source": [
    "ctgr_ftrs_slc = selector(dtype_include = object)\n",
    "ctgr_ftrs = ctgr_ftrs_slc(df)\n",
    "\n",
    "ohe_ftrs = ['marital.status', 'occupation', 'relationship', 'race', 'sex', 'native.country','workclass']\n",
    "oe_ftrs = ['education']\n",
    "total_new_ftrs = np.array([ n - 1 if n == 2 else n \n",
    "                           for i, n in enumerate([len(df[e].unique()) for e in ohe_ftrs])]).sum()\n",
    "print(f\"One Hot Encoding will add {total_new_ftrs - len(ohe_ftrs)} new columns to the dataframe\")\n",
    "\n",
    "ctgr_ohe_preproc = OneHotEncoder(handle_unknown = \"ignore\",dtype ='int', drop =\"if_binary\")\n",
    "ctgr_oe_preproc = OrdinalEncoder( categories = [edc_order])\n",
    "num_preproc = RobustScaler()"
   ]
  },
  {
   "cell_type": "markdown",
   "id": "976f8858",
   "metadata": {
    "papermill": {
     "duration": 0.011755,
     "end_time": "2022-10-31T03:30:33.313103",
     "exception": false,
     "start_time": "2022-10-31T03:30:33.301348",
     "status": "completed"
    },
    "tags": []
   },
   "source": [
    "##### 2.2 Robust Scaling and Ordinal Encoding"
   ]
  },
  {
   "cell_type": "code",
   "execution_count": 9,
   "id": "3e439cf1",
   "metadata": {
    "execution": {
     "iopub.execute_input": "2022-10-31T03:30:33.339264Z",
     "iopub.status.busy": "2022-10-31T03:30:33.338835Z",
     "iopub.status.idle": "2022-10-31T03:30:33.375915Z",
     "shell.execute_reply": "2022-10-31T03:30:33.374512Z"
    },
    "papermill": {
     "duration": 0.053182,
     "end_time": "2022-10-31T03:30:33.378562",
     "exception": false,
     "start_time": "2022-10-31T03:30:33.325380",
     "status": "completed"
    },
    "tags": []
   },
   "outputs": [],
   "source": [
    "num_trans = num_preproc.fit_transform(df[num_ftrs].values)\n",
    "oe_trans = ctgr_oe_preproc.fit_transform(df[oe_ftrs].values)\n",
    "ftrs_trans = ((num_ftrs, num_trans), (oe_ftrs, oe_trans))\n",
    "\n",
    "for cols, trans in ftrs_trans:\n",
    "    for i, ftr in enumerate(cols):\n",
    "        df[ftr] = pd.Series(trans[:,i])\n",
    "        \n",
    "num_ftrs.append('education')\n"
   ]
  },
  {
   "cell_type": "markdown",
   "id": "b1d7e17e",
   "metadata": {
    "papermill": {
     "duration": 0.011713,
     "end_time": "2022-10-31T03:30:33.402741",
     "exception": false,
     "start_time": "2022-10-31T03:30:33.391028",
     "status": "completed"
    },
    "tags": []
   },
   "source": [
    "##### 2.3 One Hot Encoding"
   ]
  },
  {
   "cell_type": "code",
   "execution_count": 10,
   "id": "fbfb48e5",
   "metadata": {
    "execution": {
     "iopub.execute_input": "2022-10-31T03:30:33.429662Z",
     "iopub.status.busy": "2022-10-31T03:30:33.428711Z",
     "iopub.status.idle": "2022-10-31T03:30:33.584627Z",
     "shell.execute_reply": "2022-10-31T03:30:33.583429Z"
    },
    "papermill": {
     "duration": 0.172272,
     "end_time": "2022-10-31T03:30:33.587432",
     "exception": false,
     "start_time": "2022-10-31T03:30:33.415160",
     "status": "completed"
    },
    "tags": []
   },
   "outputs": [],
   "source": [
    "ohe_trans = ctgr_ohe_preproc.fit_transform(df[ohe_ftrs].values).toarray()\n",
    "new_ftrs_names = ctgr_ohe_preproc.get_feature_names_out(input_features = ohe_ftrs)\n",
    "df_ohe_trans = pd.DataFrame(ohe_trans, columns = new_ftrs_names)    \n",
    "df = df.drop(ohe_ftrs, axis = 1)\n",
    "df = df.join(df_ohe_trans)"
   ]
  },
  {
   "cell_type": "markdown",
   "id": "b826afa9",
   "metadata": {
    "papermill": {
     "duration": 0.011797,
     "end_time": "2022-10-31T03:30:33.611414",
     "exception": false,
     "start_time": "2022-10-31T03:30:33.599617",
     "status": "completed"
    },
    "tags": []
   },
   "source": [
    "#### 3. Feature Selection"
   ]
  },
  {
   "cell_type": "markdown",
   "id": "495d6ec1",
   "metadata": {
    "papermill": {
     "duration": 0.011771,
     "end_time": "2022-10-31T03:30:33.635403",
     "exception": false,
     "start_time": "2022-10-31T03:30:33.623632",
     "status": "completed"
    },
    "tags": []
   },
   "source": [
    "##### 3.1 Removing Features with low correlation with the Income Y variable\n",
    "We will use two types of correlation analysis to see how each feature is related to the Income Y variable:\n",
    "* **Chi-Square Test**: categorical/binary features\n",
    "* **Point Biserial Correlation Coefficient**: used with continuous features. This is a special type of Pearson's Correlation Coefficient for when one variable is continuous and the other binary"
   ]
  },
  {
   "cell_type": "code",
   "execution_count": 11,
   "id": "a4445313",
   "metadata": {
    "execution": {
     "iopub.execute_input": "2022-10-31T03:30:33.661791Z",
     "iopub.status.busy": "2022-10-31T03:30:33.661403Z",
     "iopub.status.idle": "2022-10-31T03:30:33.673266Z",
     "shell.execute_reply": "2022-10-31T03:30:33.672385Z"
    },
    "papermill": {
     "duration": 0.027466,
     "end_time": "2022-10-31T03:30:33.675384",
     "exception": false,
     "start_time": "2022-10-31T03:30:33.647918",
     "status": "completed"
    },
    "tags": []
   },
   "outputs": [],
   "source": [
    "def fill_corr_matrix(ftrs, corr_df, method, df, ftr_name = \"\", corr_name = \"\"):\n",
    "    if method == 'pointbiserial':        \n",
    "        for i in ftrs:\n",
    "            coeff, p_val = stats.pointbiserialr(np.array(df[i]), np.array(df[ftr_name]))\n",
    "            corr_df.loc[i,corr_name] = coeff    \n",
    "    elif method == 'chi2':\n",
    "        for i in ftrs:\n",
    "            for j in ftrs:\n",
    "                if i != j:\n",
    "                    chi2_val, p_val = chi2(np.array(df[i]).reshape(-1, 1), np.array(df[j]).reshape(-1, 1))\n",
    "                    corr_df.loc[i,j] = p_val\n",
    "                                                \n",
    "def drop_features(threshold, df, values_df): \n",
    "    true_false_df = (values_df > threshold)\n",
    "    drop_ftrs = []\n",
    "    for A in values_df.index.tolist():\n",
    "        for B in values_df.index.tolist():\n",
    "            if B in drop_ftrs or A in drop_ftrs or A == B:\n",
    "                continue\n",
    "            if values_df.at[B,A] > threshold:\n",
    "                a_corr, b_corr = true_false_df[A].sum(), true_false_df[B].sum()\n",
    "                D = A\n",
    "                if a_corr < b_corr:\n",
    "                    D = B            \n",
    "                df = df.drop(D, axis = 1) \n",
    "                true_false_df = true_false_df.drop(D, axis = 0)\n",
    "                true_false_df = true_false_df.drop(D, axis = 1)\n",
    "                drop_ftrs.append(D)    \n",
    "    return df"
   ]
  },
  {
   "cell_type": "code",
   "execution_count": 12,
   "id": "b8cace77",
   "metadata": {
    "execution": {
     "iopub.execute_input": "2022-10-31T03:30:33.701940Z",
     "iopub.status.busy": "2022-10-31T03:30:33.701480Z",
     "iopub.status.idle": "2022-10-31T03:31:18.349441Z",
     "shell.execute_reply": "2022-10-31T03:31:18.348451Z"
    },
    "papermill": {
     "duration": 44.679968,
     "end_time": "2022-10-31T03:31:18.368020",
     "exception": false,
     "start_time": "2022-10-31T03:30:33.688052",
     "status": "completed"
    },
    "tags": []
   },
   "outputs": [
    {
     "data": {
      "image/png": "[encoded data removed]",
      "text/plain": [
       "<Figure size 504x504 with 2 Axes>"
      ]
     },
     "metadata": {
      "needs_background": "light"
     },
     "output_type": "display_data"
    }
   ],
   "source": [
    "#Chi-Square Tests\n",
    "ctgr_ftrs = copy(new_ftrs_names.tolist())\n",
    "ctgr_ftrs.append('income')\n",
    "p_values_df = pd.DataFrame(data=[(0 for i in range(len(ctgr_ftrs))) \n",
    "                                    for i in range(len(ctgr_ftrs))], \n",
    "                         columns = ctgr_ftrs)\n",
    "\n",
    "p_values_df.set_index(pd.Index(ctgr_ftrs), inplace = True)\n",
    "fill_corr_matrix(ctgr_ftrs, p_values_df,  'chi2', df)\n",
    "           \n",
    "fig = plt.figure(figsize=(7,7))\n",
    "sns.heatmap(p_values_df, cmap = 'Reds')\n",
    "plt.title('Chi-Square Test Results')\n",
    "plt.show()"
   ]
  },
  {
   "cell_type": "markdown",
   "id": "0cab1dc8",
   "metadata": {
    "papermill": {
     "duration": 0.013975,
     "end_time": "2022-10-31T03:31:18.395832",
     "exception": false,
     "start_time": "2022-10-31T03:31:18.381857",
     "status": "completed"
    },
    "tags": []
   },
   "source": [
    "()The heatmap generated above illustrate the p-values of the Chi-Square Tests performed between every pair of binary variables in the dataframe. The diagonal line represents all the pairs of the same variable - all having $p-value = 0$. This was expected because the null hypothesis tested in such a test states that the two variables are independent. This way, we will use a thresholf of .05 to drop a feature.\n",
    "<br>\n",
    "1. &emsp;  For each binary feature check the p_value of the Chi-Square Test having the following Null Hypothesis:\n",
    "***\n",
    "$$H_0: \\mathbf{\\text{feature and Income Y are indepent}}$$\n",
    "***\n",
    "2. &emsp; If the p_value of the test is greater than 0.05, drop the feature."
   ]
  },
  {
   "cell_type": "code",
   "execution_count": 13,
   "id": "b30175c4",
   "metadata": {
    "execution": {
     "iopub.execute_input": "2022-10-31T03:31:18.425928Z",
     "iopub.status.busy": "2022-10-31T03:31:18.425465Z",
     "iopub.status.idle": "2022-10-31T03:31:18.646347Z",
     "shell.execute_reply": "2022-10-31T03:31:18.644832Z"
    },
    "papermill": {
     "duration": 0.240344,
     "end_time": "2022-10-31T03:31:18.649981",
     "exception": false,
     "start_time": "2022-10-31T03:31:18.409637",
     "status": "completed"
    },
    "scrolled": true,
    "tags": []
   },
   "outputs": [
    {
     "name": "stdout",
     "output_type": "stream",
     "text": [
      "The dataframe has 63 columns after the Chi-Square Test with the Income\n"
     ]
    }
   ],
   "source": [
    "p_val_threshold = 0.05\n",
    "for ftr in new_ftrs_names:\n",
    "    if p_values_df[ftr]['income'] > p_val_threshold:\n",
    "        df = df.drop(ftr, axis = 1)\n",
    "        p_values_df = p_values_df.drop(ftr, axis = 0)\n",
    "        p_values_df = p_values_df.drop(ftr, axis = 1)\n",
    "\n",
    "print(f\"The dataframe has {df.shape[1]} columns after the Chi-Square Test with the Income\")"
   ]
  },
  {
   "cell_type": "markdown",
   "id": "65e478c6",
   "metadata": {
    "papermill": {
     "duration": 0.013455,
     "end_time": "2022-10-31T03:31:18.678567",
     "exception": false,
     "start_time": "2022-10-31T03:31:18.665112",
     "status": "completed"
    },
    "tags": []
   },
   "source": [
    "##### 3.2 Removing Categorical Features with high correlation with other(s)  Categorical feature(s)\n",
    "We will use the same correlation matrix generated on the previous session to analyze how each feature correlates to each other. We will use the following algorithm to determine which features to drop:\n",
    "\n",
    "***\n",
    "1. &emsp; Determine the two features associated with p_value larger than the threshold. Call them predictors A and B.\n",
    "2. &emsp; Determine the number of features for which A has a p_value larger than the threshold. In other words, count the number of features that A is correlated with. Do the same for predictor B.\n",
    "3. &emsp; If A is more correlated to other features than B, drop it; otherwise, drop B.\n",
    "4. &emsp; Repeat Steps 1–3 until no p_value is above the threshold.\n",
    "***"
   ]
  },
  {
   "cell_type": "code",
   "execution_count": 14,
   "id": "4b5e5646",
   "metadata": {
    "execution": {
     "iopub.execute_input": "2022-10-31T03:31:18.708505Z",
     "iopub.status.busy": "2022-10-31T03:31:18.707511Z",
     "iopub.status.idle": "2022-10-31T03:31:18.886055Z",
     "shell.execute_reply": "2022-10-31T03:31:18.884384Z"
    },
    "papermill": {
     "duration": 0.197609,
     "end_time": "2022-10-31T03:31:18.889972",
     "exception": false,
     "start_time": "2022-10-31T03:31:18.692363",
     "status": "completed"
    },
    "tags": []
   },
   "outputs": [
    {
     "name": "stdout",
     "output_type": "stream",
     "text": [
      "The dataframe has 26 columns after the Chi-Square Test between the binary variables\n"
     ]
    }
   ],
   "source": [
    "df = drop_features(p_val_threshold, df, p_values_df)\n",
    "print(f\"The dataframe has {df.shape[1]} columns after the Chi-Square Test between the binary variables\")"
   ]
  },
  {
   "cell_type": "markdown",
   "id": "37685f31",
   "metadata": {
    "papermill": {
     "duration": 0.013873,
     "end_time": "2022-10-31T03:31:18.918965",
     "exception": false,
     "start_time": "2022-10-31T03:31:18.905092",
     "status": "completed"
    },
    "tags": []
   },
   "source": [
    "##### 3.3 Removing Numerical Features with low correlation with the Income Y variable (Point Biserial Correlation Coefficient)\n"
   ]
  },
  {
   "cell_type": "code",
   "execution_count": 15,
   "id": "abcced5e",
   "metadata": {
    "execution": {
     "iopub.execute_input": "2022-10-31T03:31:18.949902Z",
     "iopub.status.busy": "2022-10-31T03:31:18.949488Z",
     "iopub.status.idle": "2022-10-31T03:31:18.979227Z",
     "shell.execute_reply": "2022-10-31T03:31:18.977525Z"
    },
    "papermill": {
     "duration": 0.050444,
     "end_time": "2022-10-31T03:31:18.983793",
     "exception": false,
     "start_time": "2022-10-31T03:31:18.933349",
     "status": "completed"
    },
    "tags": []
   },
   "outputs": [],
   "source": [
    "                                            \n",
    "num_ftrs = np.intersect1d(np.array(df.columns.tolist()),\n",
    "                            np.setdiff1d(np.array(num_ftrs),np.array(ctgr_ftrs))).tolist()\n",
    "corr_df = pd.DataFrame(index = num_ftrs, columns = ['Corr w/ income'])       \n",
    "fill_corr_matrix(num_ftrs, corr_df, 'pointbiserial', df, ftr_name = 'income', corr_name = 'Corr w/ income')                                        \n",
    "\n",
    "corr_threshold = 0.2   \n",
    "drop_cols = corr_df[ abs(corr_df['Corr w/ income']) < corr_threshold ].index.tolist()\n",
    "df = df.drop(drop_cols, axis = 1)"
   ]
  },
  {
   "cell_type": "markdown",
   "id": "c497cd64",
   "metadata": {
    "papermill": {
     "duration": 0.034423,
     "end_time": "2022-10-31T03:31:19.053172",
     "exception": false,
     "start_time": "2022-10-31T03:31:19.018749",
     "status": "completed"
    },
    "tags": []
   },
   "source": [
    "##### 3.4 Removing Numerical Features highly correlated with each other"
   ]
  },
  {
   "cell_type": "code",
   "execution_count": 16,
   "id": "0621a8b3",
   "metadata": {
    "execution": {
     "iopub.execute_input": "2022-10-31T03:31:19.109641Z",
     "iopub.status.busy": "2022-10-31T03:31:19.109247Z",
     "iopub.status.idle": "2022-10-31T03:31:19.130006Z",
     "shell.execute_reply": "2022-10-31T03:31:19.127966Z"
    },
    "papermill": {
     "duration": 0.043793,
     "end_time": "2022-10-31T03:31:19.133279",
     "exception": false,
     "start_time": "2022-10-31T03:31:19.089486",
     "status": "completed"
    },
    "scrolled": true,
    "tags": []
   },
   "outputs": [
    {
     "name": "stdout",
     "output_type": "stream",
     "text": [
      "The dataframe has 22 columns after the Person's Coefficient Test between the numerical variables\n"
     ]
    }
   ],
   "source": [
    "num_ftrs = np.intersect1d(np.array(df.columns.tolist()),\n",
    "                            np.setdiff1d(np.array(num_ftrs),np.array(ctgr_ftrs))).tolist()\n",
    "\n",
    "corr_threshold = 0.5\n",
    "corr_coeff_df = df[num_ftrs].copy(deep = True).corr()\n",
    "df = drop_features(corr_threshold, df, corr_coeff_df)\n",
    "\n",
    "print(f\"The dataframe has {df.shape[1]} columns after the Person's Coefficient Test between the numerical variables\")"
   ]
  },
  {
   "cell_type": "markdown",
   "id": "c45c5ff8",
   "metadata": {
    "papermill": {
     "duration": 0.013778,
     "end_time": "2022-10-31T03:31:19.161583",
     "exception": false,
     "start_time": "2022-10-31T03:31:19.147805",
     "status": "completed"
    },
    "tags": []
   },
   "source": [
    "##### 3.5 Removing Numerical Features highly correlated with Binary Features"
   ]
  },
  {
   "cell_type": "code",
   "execution_count": 17,
   "id": "d66d50d1",
   "metadata": {
    "execution": {
     "iopub.execute_input": "2022-10-31T03:31:19.191756Z",
     "iopub.status.busy": "2022-10-31T03:31:19.191364Z",
     "iopub.status.idle": "2022-10-31T03:31:19.337195Z",
     "shell.execute_reply": "2022-10-31T03:31:19.335456Z"
    },
    "papermill": {
     "duration": 0.16605,
     "end_time": "2022-10-31T03:31:19.341736",
     "exception": false,
     "start_time": "2022-10-31T03:31:19.175686",
     "status": "completed"
    },
    "tags": []
   },
   "outputs": [],
   "source": [
    "num_ftrs = np.intersect1d(np.array(df.columns.tolist()),\n",
    "                            np.setdiff1d(np.array(num_ftrs),np.array(ctgr_ftrs))).tolist()\n",
    "\n",
    "ctgr_ftrs = np.setdiff1d(np.array(df.columns.tolist()), np.array(num_ftrs))\n",
    "p_values_df = pd.DataFrame(index = num_ftrs, columns = ctgr_ftrs)\n",
    "p_values_df.set_index(pd.Index(num_ftrs), inplace = True)\n",
    "\n",
    "for i in ctgr_ftrs:\n",
    "    fill_corr_matrix(num_ftrs, p_values_df, 'pointbiserial', df, ftr_name = i, corr_name = 'Corr w/ income')                                        \n",
    "\n",
    "corr_threshold = 0.5\n",
    "corr_ftrs = p_values_df[abs(p_values_df) > corr_threshold]"
   ]
  },
  {
   "cell_type": "markdown",
   "id": "aa69cdf0",
   "metadata": {
    "papermill": {
     "duration": 0.037464,
     "end_time": "2022-10-31T03:31:19.415730",
     "exception": false,
     "start_time": "2022-10-31T03:31:19.378266",
     "status": "completed"
    },
    "tags": []
   },
   "source": [
    "As noticed above, **Age** and **Martial Status_Never-married** have an absolute correlation coefficient greater than 50%. We will drop **Martial Status_Never-married**. "
   ]
  },
  {
   "cell_type": "markdown",
   "id": "520caedd",
   "metadata": {
    "papermill": {
     "duration": 0.014905,
     "end_time": "2022-10-31T03:31:19.467245",
     "exception": false,
     "start_time": "2022-10-31T03:31:19.452340",
     "status": "completed"
    },
    "tags": []
   },
   "source": [
    "#### 4 Dealing with the NAN values\n"
   ]
  },
  {
   "cell_type": "code",
   "execution_count": 18,
   "id": "3e6a6c41",
   "metadata": {
    "execution": {
     "iopub.execute_input": "2022-10-31T03:31:19.498200Z",
     "iopub.status.busy": "2022-10-31T03:31:19.497757Z",
     "iopub.status.idle": "2022-10-31T03:31:19.503853Z",
     "shell.execute_reply": "2022-10-31T03:31:19.502873Z"
    },
    "papermill": {
     "duration": 0.024349,
     "end_time": "2022-10-31T03:31:19.506257",
     "exception": false,
     "start_time": "2022-10-31T03:31:19.481908",
     "status": "completed"
    },
    "tags": []
   },
   "outputs": [
    {
     "name": "stdout",
     "output_type": "stream",
     "text": [
      "['occupation_nan', 'workclass_nan']\n"
     ]
    }
   ],
   "source": [
    "null_tracker_ftrs = [s for s in df.columns.tolist() if 'nan' in s]\n",
    "print(null_tracker_ftrs)"
   ]
  },
  {
   "cell_type": "markdown",
   "id": "bfe9ad54",
   "metadata": {
    "papermill": {
     "duration": 0.014002,
     "end_time": "2022-10-31T03:31:19.535698",
     "exception": false,
     "start_time": "2022-10-31T03:31:19.521696",
     "status": "completed"
    },
    "tags": []
   },
   "source": [
    "Above we see that only the features **Occupation** and **Workclass** had null values in the raw dataset. As both of these features were transformed with One-Hot Encoding, this means that all the generated features related to their transformations, for the rows where they were originally null, have no meaning. The only generated features that have some meaning are **Workclass_nan** and **Occupation_nan** for the null rows. In other words, the rows that had **Occupation** and **Workclass** with null in the raw dataset have **Workclass_nan** and **Occupation_nan** as 1 after one-hot-encoding. Let's check how many rows fall into these categories."
   ]
  },
  {
   "cell_type": "code",
   "execution_count": 19,
   "id": "4863485e",
   "metadata": {
    "execution": {
     "iopub.execute_input": "2022-10-31T03:31:19.566313Z",
     "iopub.status.busy": "2022-10-31T03:31:19.565530Z",
     "iopub.status.idle": "2022-10-31T03:31:19.573977Z",
     "shell.execute_reply": "2022-10-31T03:31:19.572957Z"
    },
    "papermill": {
     "duration": 0.027707,
     "end_time": "2022-10-31T03:31:19.577658",
     "exception": false,
     "start_time": "2022-10-31T03:31:19.549951",
     "status": "completed"
    },
    "tags": []
   },
   "outputs": [
    {
     "name": "stdout",
     "output_type": "stream",
     "text": [
      "1843 rows had Occupation feature as null in the original dataset\n",
      "1836 rows had Workclass feature as null in the original dataset\n",
      "1836 rows had both features as null in the original dataset\n"
     ]
    }
   ],
   "source": [
    "#As 'Occupation_nan' and 'Workclass_nan' are binary columns one can use sum() to get the total 1's\n",
    "\n",
    "print(f\"{df['occupation_nan'].sum()} rows had Occupation feature as null in the original dataset\")\n",
    "print(f\"{df['workclass_nan'].sum()} rows had Workclass feature as null in the original dataset\")\n",
    "print(f\"{df[(df['occupation_nan'] == 1) & (df['workclass_nan'] == 1)].shape[0]} rows had both features as null in the original dataset\") "
   ]
  },
  {
   "cell_type": "markdown",
   "id": "ef27508c",
   "metadata": {
    "papermill": {
     "duration": 0.013702,
     "end_time": "2022-10-31T03:31:19.606002",
     "exception": false,
     "start_time": "2022-10-31T03:31:19.592300",
     "status": "completed"
    },
    "tags": []
   },
   "source": [
    "We notice that all rows that had **Workclass** null in the original dataset also had null in the **Occupation** feature. This way we can drop only the rows having **Occupation_nan == 1**."
   ]
  },
  {
   "cell_type": "code",
   "execution_count": 20,
   "id": "a0c25388",
   "metadata": {
    "execution": {
     "iopub.execute_input": "2022-10-31T03:31:19.637326Z",
     "iopub.status.busy": "2022-10-31T03:31:19.635803Z",
     "iopub.status.idle": "2022-10-31T03:31:19.647493Z",
     "shell.execute_reply": "2022-10-31T03:31:19.645658Z"
    },
    "papermill": {
     "duration": 0.030699,
     "end_time": "2022-10-31T03:31:19.651048",
     "exception": false,
     "start_time": "2022-10-31T03:31:19.620349",
     "status": "completed"
    },
    "scrolled": true,
    "tags": []
   },
   "outputs": [
    {
     "name": "stdout",
     "output_type": "stream",
     "text": [
      "The dataframe has 30717 rows after dropping the rows with null values\n"
     ]
    }
   ],
   "source": [
    "df = df[df['occupation_nan'] != 1]\n",
    "print(f\"The dataframe has {df.shape[0]} rows after dropping the rows with null values\")"
   ]
  },
  {
   "cell_type": "code",
   "execution_count": 21,
   "id": "30d05267",
   "metadata": {
    "execution": {
     "iopub.execute_input": "2022-10-31T03:31:19.682961Z",
     "iopub.status.busy": "2022-10-31T03:31:19.681423Z",
     "iopub.status.idle": "2022-10-31T03:31:19.691844Z",
     "shell.execute_reply": "2022-10-31T03:31:19.690343Z"
    },
    "papermill": {
     "duration": 0.029142,
     "end_time": "2022-10-31T03:31:19.694854",
     "exception": false,
     "start_time": "2022-10-31T03:31:19.665712",
     "status": "completed"
    },
    "scrolled": true,
    "tags": []
   },
   "outputs": [
    {
     "name": "stdout",
     "output_type": "stream",
     "text": [
      "20 features were selected to train the KNN model!\n"
     ]
    }
   ],
   "source": [
    "#Dropping the dummy variables created to track rows with null values\n",
    "df = df.drop(null_tracker_ftrs, axis = 1)\n",
    "print(f\"{df.shape[1]} features were selected to train the KNN model!\")"
   ]
  },
  {
   "cell_type": "markdown",
   "id": "b1f91021",
   "metadata": {
    "papermill": {
     "duration": 0.01385,
     "end_time": "2022-10-31T03:31:19.723552",
     "exception": false,
     "start_time": "2022-10-31T03:31:19.709702",
     "status": "completed"
    },
    "tags": []
   },
   "source": [
    "# KNN Training"
   ]
  },
  {
   "cell_type": "code",
   "execution_count": 22,
   "id": "a30e96bd",
   "metadata": {
    "execution": {
     "iopub.execute_input": "2022-10-31T03:31:19.753627Z",
     "iopub.status.busy": "2022-10-31T03:31:19.753239Z",
     "iopub.status.idle": "2022-10-31T03:31:19.759355Z",
     "shell.execute_reply": "2022-10-31T03:31:19.758042Z"
    },
    "papermill": {
     "duration": 0.024093,
     "end_time": "2022-10-31T03:31:19.761850",
     "exception": false,
     "start_time": "2022-10-31T03:31:19.737757",
     "status": "completed"
    },
    "tags": []
   },
   "outputs": [],
   "source": [
    "from sklearn.neighbors import KNeighborsClassifier as knn\n",
    "from sklearn.model_selection import KFold, cross_val_score\n",
    "from sklearn.decomposition import PCA"
   ]
  },
  {
   "cell_type": "code",
   "execution_count": 23,
   "id": "ea0596e7",
   "metadata": {
    "execution": {
     "iopub.execute_input": "2022-10-31T03:31:19.791716Z",
     "iopub.status.busy": "2022-10-31T03:31:19.791324Z",
     "iopub.status.idle": "2022-10-31T03:31:19.798870Z",
     "shell.execute_reply": "2022-10-31T03:31:19.797355Z"
    },
    "papermill": {
     "duration": 0.025173,
     "end_time": "2022-10-31T03:31:19.801269",
     "exception": false,
     "start_time": "2022-10-31T03:31:19.776096",
     "status": "completed"
    },
    "tags": []
   },
   "outputs": [],
   "source": [
    "def k_scores(first, last, x, y, splits, step = 1):\n",
    "    max_scores = {}\n",
    "    for k in range(first,last,step):\n",
    "        KNN = knn(k)\n",
    "        kfold = KFold(n_splits = splits)\n",
    "        scores = cross_val_score(KNN, x, y, cv = kfold)\n",
    "        score = np.amax(scores)\n",
    "        max_scores[k] = score\n",
    "    return max_scores"
   ]
  },
  {
   "cell_type": "code",
   "execution_count": 24,
   "id": "2ff39b20",
   "metadata": {
    "execution": {
     "iopub.execute_input": "2022-10-31T03:31:19.832249Z",
     "iopub.status.busy": "2022-10-31T03:31:19.831473Z",
     "iopub.status.idle": "2022-10-31T03:37:07.876749Z",
     "shell.execute_reply": "2022-10-31T03:37:07.875507Z"
    },
    "papermill": {
     "duration": 348.077989,
     "end_time": "2022-10-31T03:37:07.893739",
     "exception": false,
     "start_time": "2022-10-31T03:31:19.815750",
     "status": "completed"
    },
    "tags": []
   },
   "outputs": [
    {
     "name": "stdout",
     "output_type": "stream",
     "text": [
      "The model will have 29 neighbors, and estimated accuracy of 0.8606317160534028\n"
     ]
    },
    {
     "data": {
      "text/plain": [
       "KNeighborsClassifier(n_neighbors=29)"
      ]
     },
     "execution_count": 24,
     "metadata": {},
     "output_type": "execute_result"
    }
   ],
   "source": [
    "train_set = df.copy(deep = True)\n",
    "y = train_set['income'].tolist()\n",
    "train_set = train_set.drop('income', axis = 1)\n",
    "x = train_set.values \n",
    "\n",
    "max_scores = k_scores(1,50, x, y, 10,step = 4)\n",
    "n = max(max_scores, key = max_scores.get)\n",
    "max_scores = k_scores(n - 6, n + 1, x, y, 10)\n",
    "n = max(max_scores, key = max_scores.get)\n",
    "\n",
    "print(f\"The model will have {n} neighbors, and estimated accuracy of {max_scores[n]}\")\n",
    "model = knn(n_neighbors = n)\n",
    "model.fit(x,y)\n"
   ]
  },
  {
   "cell_type": "markdown",
   "id": "5e79523e",
   "metadata": {
    "papermill": {
     "duration": 0.014208,
     "end_time": "2022-10-31T03:37:07.922614",
     "exception": false,
     "start_time": "2022-10-31T03:37:07.908406",
     "status": "completed"
    },
    "tags": []
   },
   "source": [
    "# KNN Testing"
   ]
  },
  {
   "cell_type": "code",
   "execution_count": 25,
   "id": "1fde3597",
   "metadata": {
    "execution": {
     "iopub.execute_input": "2022-10-31T03:37:07.953717Z",
     "iopub.status.busy": "2022-10-31T03:37:07.953318Z",
     "iopub.status.idle": "2022-10-31T03:37:08.325547Z",
     "shell.execute_reply": "2022-10-31T03:37:08.324272Z"
    },
    "papermill": {
     "duration": 0.39104,
     "end_time": "2022-10-31T03:37:08.328286",
     "exception": false,
     "start_time": "2022-10-31T03:37:07.937246",
     "status": "completed"
    },
    "scrolled": true,
    "tags": []
   },
   "outputs": [],
   "source": [
    "test_set = pd.read_csv(\"../input/adult-pmr3508/test_data.csv\", sep=r'\\s*,\\s*', engine='python', na_values=\"?\")\n",
    "\n",
    "num_ftrs_slc = selector(dtype_exclude = object)\n",
    "num_ftrs = num_ftrs_slc(test_set)\n",
    "ctgr_ftrs_slc = selector(dtype_include = object)\n",
    "ctgr_ftrs = ctgr_ftrs_slc(test_set)\n",
    "\n",
    "ohe_ftrs = ['marital.status', 'occupation', 'relationship', 'race', 'sex', 'native.country','workclass']\n",
    "oe_ftrs = ['education']\n",
    "total_new_ftrs = np.array([ n - 1 if n == 2 else n \n",
    "                           for i, n in enumerate([len(test_set[e].unique()) for e in ohe_ftrs])]).sum()\n",
    "\n",
    "ctgr_ohe_preproc = OneHotEncoder(handle_unknown = \"ignore\",dtype ='int', drop =\"if_binary\")\n",
    "ctgr_oe_preproc = OrdinalEncoder( categories = [edc_order])\n",
    "num_preproc = RobustScaler()\n",
    "\n",
    "num_trans = num_preproc.fit_transform(test_set[num_ftrs].values)\n",
    "oe_trans = ctgr_oe_preproc.fit_transform(test_set[oe_ftrs].values)\n",
    "ftrs_trans = ((num_ftrs, num_trans), (oe_ftrs, oe_trans))\n",
    "\n",
    "for cols, trans in ftrs_trans:\n",
    "    for i, ftr in enumerate(cols):\n",
    "        test_set[ftr] = pd.Series(trans[:,i])\n",
    "        \n",
    "num_ftrs.append('education')\n",
    "\n",
    "\n",
    "\n",
    "ohe_trans = ctgr_ohe_preproc.fit_transform(test_set[ohe_ftrs].values).toarray()\n",
    "new_ftrs_names = ctgr_ohe_preproc.get_feature_names_out(input_features = ohe_ftrs)\n",
    "df_ohe_trans = pd.DataFrame(ohe_trans, columns = new_ftrs_names)    \n",
    "test_set = test_set.drop(ohe_ftrs, axis = 1)\n",
    "test_set = test_set.join(df_ohe_trans)\n",
    "\n",
    "test_set = test_set[train_set.columns.tolist()]\n",
    "test_set.dropna(inplace = True)"
   ]
  },
  {
   "cell_type": "code",
   "execution_count": 26,
   "id": "a02ab592",
   "metadata": {
    "execution": {
     "iopub.execute_input": "2022-10-31T03:37:08.359335Z",
     "iopub.status.busy": "2022-10-31T03:37:08.358903Z",
     "iopub.status.idle": "2022-10-31T03:37:18.424435Z",
     "shell.execute_reply": "2022-10-31T03:37:18.423045Z"
    },
    "papermill": {
     "duration": 10.084688,
     "end_time": "2022-10-31T03:37:18.427533",
     "exception": false,
     "start_time": "2022-10-31T03:37:08.342845",
     "status": "completed"
    },
    "tags": []
   },
   "outputs": [],
   "source": [
    "predicted = model.predict(test_set.values)\n",
    "submission = pd.DataFrame(data = predicted).replace(to_replace=[0,1], value=['<=50K','>50K'])\n",
    "file = pd.DataFrame()\n",
    "file[0] = test_set.index\n",
    "file[1] = submission.values\n",
    "file.columns = ['Id', 'income']\n",
    "file.to_csv(\"submission.csv\", index = False, header = 1)"
   ]
  }
 ],
 "metadata": {
  "kernelspec": {
   "display_name": "Python 3",
   "language": "python",
   "name": "python3"
  },
  "language_info": {
   "codemirror_mode": {
    "name": "ipython",
    "version": 3
   },
   "file_extension": ".py",
   "mimetype": "text/x-python",
   "name": "python",
   "nbconvert_exporter": "python",
   "pygments_lexer": "ipython3",
   "version": "3.7.12"
  },
  "papermill": {
   "default_parameters": {},
   "duration": 419.140322,
   "end_time": "2022-10-31T03:37:19.265275",
   "environment_variables": {},
   "exception": null,
   "input_path": "__notebook__.ipynb",
   "output_path": "__notebook__.ipynb",
   "parameters": {},
   "start_time": "2022-10-31T03:30:20.124953",
   "version": "2.3.4"
  }
 },
 "nbformat": 4,
 "nbformat_minor": 5
}
